{
 "cells": [
  {
   "cell_type": "code",
   "execution_count": 1,
   "id": "embedded-armor",
   "metadata": {},
   "outputs": [],
   "source": [
    "import numpy as np\n",
    "import networkx as nx\n",
    "import ipycytoscape"
   ]
  },
  {
   "cell_type": "code",
   "execution_count": 2,
   "id": "annual-storage",
   "metadata": {},
   "outputs": [],
   "source": [
    "n = 7\n",
    "g = nx.grid_2d_graph(n,n,periodic=False)"
   ]
  },
  {
   "cell_type": "code",
   "execution_count": 3,
   "id": "romantic-prototype",
   "metadata": {},
   "outputs": [
    {
     "data": {
      "text/plain": [
       "0.8384303618537506"
      ]
     },
     "execution_count": 3,
     "metadata": {},
     "output_type": "execute_result"
    }
   ],
   "source": [
    "np.random.random((4))[0]"
   ]
  },
  {
   "cell_type": "code",
   "execution_count": 4,
   "id": "completed-triangle",
   "metadata": {},
   "outputs": [],
   "source": [
    "for n in g.nodes:\n",
    "    g.nodes[n]['opacity'] = np.random.random()\n",
    "#     g.nodes[n]['value'] = np.random.random((4))"
   ]
  },
  {
   "cell_type": "code",
   "execution_count": 5,
   "id": "secret-flooring",
   "metadata": {},
   "outputs": [],
   "source": [
    "s1 = np.random.random_sample((10))\n",
    "s2 = np.random.random_sample((10))*5"
   ]
  },
  {
   "cell_type": "code",
   "execution_count": 6,
   "id": "precise-apartment",
   "metadata": {},
   "outputs": [
    {
     "data": {
      "text/plain": [
       "array([0.33167791, 0.4527524 , 0.03357911, 0.80213203, 0.16070937,\n",
       "       0.72965357, 0.78665095, 0.37962974, 0.2824046 , 0.99641423])"
      ]
     },
     "execution_count": 6,
     "metadata": {},
     "output_type": "execute_result"
    }
   ],
   "source": [
    "s1"
   ]
  },
  {
   "cell_type": "code",
   "execution_count": 7,
   "id": "bronze-liability",
   "metadata": {},
   "outputs": [
    {
     "data": {
      "text/plain": [
       "array([2.63541183, 3.01038636, 3.33234648, 0.17686961, 3.80624021,\n",
       "       1.88982585, 3.47138819, 0.63720901, 2.233451  , 2.27168674])"
      ]
     },
     "execution_count": 7,
     "metadata": {},
     "output_type": "execute_result"
    }
   ],
   "source": [
    "s2"
   ]
  },
  {
   "cell_type": "code",
   "execution_count": 8,
   "id": "monetary-wrist",
   "metadata": {},
   "outputs": [
    {
     "data": {
      "application/vnd.jupyter.widget-view+json": {
       "model_id": "0f634f7935604559883cd0dab360afd8",
       "version_major": 2,
       "version_minor": 0
      },
      "text/plain": [
       "CytoscapeWidget(cytoscape_layout={'name': 'grid'}, cytoscape_style=[{'selector': 'node', 'style': {'label': 'd…"
      ]
     },
     "metadata": {},
     "output_type": "display_data"
    }
   ],
   "source": [
    "cytoscapeobj = ipycytoscape.CytoscapeWidget()\n",
    "\n",
    "cytoscapeobj.graph.add_graph_from_networkx(g)\n",
    "\n",
    "cytoscapeobj.set_layout(name='grid')\n",
    "cytoscapeobj.set_style([{\n",
    "                          \"selector\":\"node\",\n",
    "                          \"style\":{\n",
    "                             \"label\":'data(id)',\n",
    "                             \"width\":20,\n",
    "                              \"opacity\": 'data(opacity)'\n",
    "                          }\n",
    "                       },\n",
    "                       {\n",
    "                          \"selector\":\"edge\",\n",
    "                          \"style\":{\n",
    "                              \"haystack-radius\":0,\n",
    "                             \"width\":2,\n",
    "                             \"opacity\":1,\n",
    "                             \"line-color\":\"#a2efa2\"\n",
    "                          }\n",
    "                       }])\n",
    "cytoscapeobj"
   ]
  },
  {
   "cell_type": "code",
   "execution_count": 9,
   "id": "identical-soldier",
   "metadata": {},
   "outputs": [],
   "source": [
    "max_iter = 10"
   ]
  },
  {
   "cell_type": "code",
   "execution_count": null,
   "id": "organized-rocket",
   "metadata": {},
   "outputs": [],
   "source": []
  }
 ],
 "metadata": {
  "kernelspec": {
   "display_name": "Python 3",
   "language": "python",
   "name": "python3"
  },
  "language_info": {
   "codemirror_mode": {
    "name": "ipython",
    "version": 3
   },
   "file_extension": ".py",
   "mimetype": "text/x-python",
   "name": "python",
   "nbconvert_exporter": "python",
   "pygments_lexer": "ipython3",
   "version": "3.9.2"
  }
 },
 "nbformat": 4,
 "nbformat_minor": 5
}
