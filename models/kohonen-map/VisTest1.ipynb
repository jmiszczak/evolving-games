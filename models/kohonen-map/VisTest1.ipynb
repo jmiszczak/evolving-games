{
 "cells": [
  {
   "cell_type": "code",
   "execution_count": 1,
   "id": "embedded-armor",
   "metadata": {},
   "outputs": [],
   "source": [
    "import numpy as np\n",
    "import networkx as nx\n",
    "import ipycytoscape"
   ]
  },
  {
   "cell_type": "code",
   "execution_count": 70,
   "id": "annual-storage",
   "metadata": {},
   "outputs": [],
   "source": [
    "gid_size = 5\n",
    "max_iter = 10\n",
    "g = nx.grid_2d_graph(gid_size, gid_size, periodic=False)"
   ]
  },
  {
   "cell_type": "code",
   "execution_count": 71,
   "id": "completed-triangle",
   "metadata": {},
   "outputs": [],
   "source": [
    "for n in g.nodes:\n",
    "    g.nodes[n]['color_vector'] = np.random.randint(0,255,3).tolist()\n",
    "    g.nodes[n]['color_hex'] = '#{:02x}{:02x}{:02x}'.format(*g.nodes[n]['color_vector'] )"
   ]
  },
  {
   "cell_type": "code",
   "execution_count": 76,
   "id": "monetary-wrist",
   "metadata": {},
   "outputs": [
    {
     "data": {
      "application/vnd.jupyter.widget-view+json": {
       "model_id": "2cf9820ef8b04d1facf738b65324ea69",
       "version_major": 2,
       "version_minor": 0
      },
      "text/plain": [
       "CytoscapeWidget(cytoscape_layout={'name': 'grid'}, cytoscape_style=[{'selector': 'node', 'style': {'width': 20…"
      ]
     },
     "metadata": {},
     "output_type": "display_data"
    }
   ],
   "source": [
    "cytoscapeobj = ipycytoscape.CytoscapeWidget()\n",
    "cytoscapeobj.graph.add_graph_from_networkx(g)\n",
    "\n",
    "cytoscapeobj.set_layout(name='grid')\n",
    "cytoscapeobj.set_style([{\n",
    "    \"selector\":\"node\",\n",
    "    \"style\":{\n",
    "        \"width\": 20,\n",
    "        \"opacity\": '1',\n",
    "        \"background-color\": 'data(color_hex)'\n",
    "    }\n",
    "},\n",
    "{\n",
    "  \"selector\":\"edge\",\n",
    "  \"style\":{\n",
    "      \"haystack-radius\":0,\n",
    "     \"width\":1,\n",
    "     \"opacity\":1,\n",
    "     \"line-color\":\"#000000\"\n",
    "  }\n",
    "}\n",
    "])\n",
    "cytoscapeobj.set_tooltip_source('color_hex')\n",
    "cytoscapeobj"
   ]
  },
  {
   "cell_type": "code",
   "execution_count": null,
   "id": "returning-worcester",
   "metadata": {},
   "outputs": [],
   "source": []
  }
 ],
 "metadata": {
  "kernelspec": {
   "display_name": "Python 3",
   "language": "python",
   "name": "python3"
  },
  "language_info": {
   "codemirror_mode": {
    "name": "ipython",
    "version": 3
   },
   "file_extension": ".py",
   "mimetype": "text/x-python",
   "name": "python",
   "nbconvert_exporter": "python",
   "pygments_lexer": "ipython3",
   "version": "3.9.2"
  }
 },
 "nbformat": 4,
 "nbformat_minor": 5
}
