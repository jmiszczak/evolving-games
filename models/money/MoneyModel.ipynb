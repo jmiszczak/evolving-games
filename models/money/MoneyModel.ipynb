{
 "cells": [
  {
   "cell_type": "code",
   "execution_count": 23,
   "metadata": {},
   "outputs": [],
   "source": [
    "import matplotlib as mpl\n",
    "mpl.rc('text', usetex = True)\n",
    "mpl.rc('font', size = 14)\n",
    "\n",
    "from IPython.core.display import display\n",
    "\n",
    "\n",
    "from MoneyModel import MoneyModel"
   ]
  },
  {
   "cell_type": "code",
   "execution_count": 20,
   "metadata": {},
   "outputs": [],
   "source": [
    "# store data from 100 num_runs\n",
    "num_runs = 500\n",
    "\n",
    "# each run has num_steps steps\n",
    "num_steps = 100\n",
    "\n",
    "# each model has num_agents agents\n",
    "num_agents = 20\n",
    "\n",
    "# data from all simulations\n",
    "wealth_data = []\n",
    "\n",
    "for _ in range(num_runs):\n",
    "    # create a model\n",
    "    model = MoneyModel(num_agents)\n",
    "\n",
    "    # execute 100 steps\n",
    "    for _ in range(num_steps):\n",
    "        model.step()\n",
    "        \n",
    "    for a in model.schedule.agents:\n",
    "        wealth_data.append(a.wealth)"
   ]
  },
  {
   "cell_type": "code",
   "execution_count": 26,
   "metadata": {},
   "outputs": [
    {
     "data": {
      "image/png": "[encoded data removed]",
      "text/plain": [
       "<Figure size 720x504 with 1 Axes>"
      ]
     },
     "metadata": {},
     "output_type": "display_data"
    }
   ],
   "source": [
    "fig = mpl.figure.Figure(figsize=(10,7))\n",
    "axs = fig.add_subplot()\n",
    "axs.hist(wealth_data, density=True, histtype='step')\n",
    "display(fig)"
   ]
  }
 ],
 "metadata": {
  "kernelspec": {
   "display_name": "Python 3",
   "language": "python",
   "name": "python3"
  },
  "language_info": {
   "codemirror_mode": {
    "name": "ipython",
    "version": 3
   },
   "file_extension": ".py",
   "mimetype": "text/x-python",
   "name": "python",
   "nbconvert_exporter": "python",
   "pygments_lexer": "ipython3",
   "version": "3.7.6"
  }
 },
 "nbformat": 4,
 "nbformat_minor": 4
}
